{
 "metadata": {
  "name": "",
  "signature": "sha256:3dade8f061a5e316d3f5874a8bd0b8adfe5555dc4a7ff4856d28ba4c737c4b8d"
 },
 "nbformat": 3,
 "nbformat_minor": 0,
 "worksheets": [
  {
   "cells": [
    {
     "cell_type": "markdown",
     "metadata": {},
     "source": [
      "# Nonparametric Inference, Auditing, and Litigation\n",
      "## Short course at [XXIX International Forum on Statistics](http://www.upaep.mx/micrositios/29foroestadistica/)\n",
      "## UPAEP, Puebla, Mexico, 29 September&ndash;3 October 2014\n",
      "### [Philip B. Stark](www.stat.berkeley.edu/~stark)\n",
      "### [Department of Statistics](statistics.berkeley.edu), [University of California, Berkeley](www.berkeley.edu)\n",
      "\n",
      "\n",
      "### These materials are available at https://github.com/pbstark/MX14 \n",
      "\n",
      "*Abstract:* Many problems that arise in financial and election auditing,\n",
      "civil litigation,\n",
      "and causal inference can be reduced to statistical inferences about\n",
      "the mean of a nonnegative or bounded finite population.\n",
      "A variety of sampling plans can be combined with common probability\n",
      "inequalities to test hypotheses or make confidence intervals in these applications,\n",
      "in a fully nonparametric, conservative way.\n",
      "I will illustrate these methods with real and cartoon examples from election auditing,\n",
      "healthcare auditing, intellectual property litigation, wage and hour litigation,\n",
      "and online advertising.\n",
      "An especially useful class of methods can be derived from Wald's (1945)\n",
      "sequential probability ratio test (SPRT), which hinges on a generalization of the\n",
      "problem of _gambler's ruin_.\n",
      "Methods based on Wald's SPRT allow samples to be drawn incrementally and adaptively,\n",
      "often reducing the cost of financial and electoral audits, litigation discovery,\n",
      "and experiments without incurring any penalty from multiple testing."
     ]
    },
    {
     "cell_type": "markdown",
     "metadata": {},
     "source": [
      "## Index\n",
      "1. [Canonical examples of real-world problems we will consider](canonical.ipynb)\n",
      "1. [Why not use the normal approximation?](normApprox.ipynb)\n",
      "1. [The duality between confidence sets and hypothesis tests](duality.ipynb)\n",
      "1. [Confidence bounds for the mean of a bounded population: Binomial and Hypergeometric](binom.ipynb)\n",
      "1. [Confidence bounds from the Chebychev and Hoeffding Inequalities](hoeffding.ipynb)\n",
      "1. [Lower confidence bounds for the mean of a nonnegative population: Markov's Inequality & methods based on the empirical distribution](markov.ipynb)\n",
      "1. [Wald's Sequential Probability Ratio Test](sprt.ipynb)\n",
      "1. [The Kaplan-Wald Confidence Bound for a Nonnegative Mean](kaplanWald.ipynb)\n",
      "1. [Dollar-unit sampling and taint](dus.ipynb)\n",
      "1. [Penny Sampling and Continuous Penny Sampling](pennySampling.ipynb)\n",
      "1. [Method shootout](shootout.ipynb)\n",
      "1. [Bibliography](bib.ipynb)"
     ]
    },
    {
     "cell_type": "markdown",
     "metadata": {},
     "source": [
      "These notes were written using\n",
      "+ Python version 2.7.3 \n",
      "+ IPython version 2.0.0\n",
      "+ numpy version 1.8.0\n",
      "+ scipy version 0.13.2\n",
      "+ pandas version 0.13.1-89-gb5b7436\n",
      "+ matplotlib version 1.3.1\n",
      "+ Mac OS Darwin 13.4.0 x86_64 i386 64bit"
     ]
    },
    {
     "cell_type": "code",
     "collapsed": false,
     "input": [
      "%load_ext version_information\n",
      "%version_information scipy, numpy, pandas, matplotlib"
     ],
     "language": "python",
     "metadata": {},
     "outputs": [
      {
       "output_type": "stream",
       "stream": "stdout",
       "text": [
        "The version_information extension is already loaded. To reload it, use:\n",
        "  %reload_ext version_information\n"
       ]
      },
      {
       "html": [
        "<table><tr><th>Software</th><th>Version</th></tr><tr><td>Python</td><td>2.7.3 64bit [GCC 4.2.1 (Apple Inc. build 5666) (dot 3)]</td></tr><tr><td>IPython</td><td>2.0.0</td></tr><tr><td>OS</td><td>Darwin 13.4.0 x86_64 i386 64bit</td></tr><tr><td>scipy</td><td>0.13.2</td></tr><tr><td>numpy</td><td>1.8.0</td></tr><tr><td>pandas</td><td>0.13.1-89-gb5b7436</td></tr><tr><td>matplotlib</td><td>1.3.1</td></tr><tr><td colspan='2'>Tue Oct 07 11:05:31 2014 PDT</td></tr></table>"
       ],
       "json": [
        "{\"Software versions\": [{\"version\": \"2.7.3 64bit [GCC 4.2.1 (Apple Inc. build 5666) (dot 3)]\", \"module\": \"Python\"}, {\"version\": \"2.0.0\", \"module\": \"IPython\"}, {\"version\": \"Darwin 13.4.0 x86_64 i386 64bit\", \"module\": \"OS\"}, {\"version\": \"0.13.2\", \"module\": \"scipy\"}, {\"version\": \"1.8.0\", \"module\": \"numpy\"}, {\"version\": \"0.13.1-89-gb5b7436\", \"module\": \"pandas\"}, {\"version\": \"1.3.1\", \"module\": \"matplotlib\"}]}"
       ],
       "latex": [
        "\\begin{tabular}{|l|l|}\\hline\n",
        "{\\bf Software} & {\\bf Version} \\\\ \\hline\\hline\n",
        "Python & 2.7.3 64bit [GCC 4.2.1 (Apple Inc. build 5666) (dot 3)] \\\\ \\hline\n",
        "IPython & 2.0.0 \\\\ \\hline\n",
        "OS & Darwin 13.4.0 x86\\letterunderscore{}64 i386 64bit \\\\ \\hline\n",
        "scipy & 0.13.2 \\\\ \\hline\n",
        "numpy & 1.8.0 \\\\ \\hline\n",
        "pandas & 0.13.1-89-gb5b7436 \\\\ \\hline\n",
        "matplotlib & 1.3.1 \\\\ \\hline\n",
        "\\hline \\multicolumn{2}{|l|}{Tue Oct 07 11:05:31 2014 PDT} \\\\ \\hline\n",
        "\\end{tabular}\n"
       ],
       "metadata": {},
       "output_type": "pyout",
       "prompt_number": 9,
       "text": [
        "Software versions\n",
        "Python 2.7.3 64bit [GCC 4.2.1 (Apple Inc. build 5666) (dot 3)]\n",
        "IPython 2.0.0\n",
        "OS Darwin 13.4.0 x86_64 i386 64bit\n",
        "scipy 0.13.2\n",
        "numpy 1.8.0\n",
        "pandas 0.13.1-89-gb5b7436\n",
        "matplotlib 1.3.1\n",
        "Tue Oct 07 11:05:31 2014 PDT"
       ]
      }
     ],
     "prompt_number": 9
    },
    {
     "cell_type": "code",
     "collapsed": false,
     "input": [
      "%run talkTools.py"
     ],
     "language": "python",
     "metadata": {},
     "outputs": []
    }
   ],
   "metadata": {}
  }
 ]
}